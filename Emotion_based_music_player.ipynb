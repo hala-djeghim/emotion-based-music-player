{
  "nbformat": 4,
  "nbformat_minor": 0,
  "metadata": {
    "colab": {
      "name": "Emotion based music player.ipynb",
      "provenance": [],
      "collapsed_sections": []
    },
    "kernelspec": {
      "name": "python3",
      "display_name": "Python 3"
    },
    "language_info": {
      "name": "python"
    },
    "accelerator": "GPU"
  },
  "cells": [
    {
      "cell_type": "markdown",
      "source": [
        "# Data\n"
      ],
      "metadata": {
        "id": "Zg0HZYs_NrpJ"
      }
    },
    {
      "cell_type": "code",
      "source": [
        "from google.colab import drive\n",
        "drive.mount('/content/drive', force_remount=True)"
      ],
      "metadata": {
        "colab": {
          "base_uri": "https://localhost:8080/"
        },
        "id": "Bh1PHOPVa7ol",
        "outputId": "89913332-7df0-4048-eeff-567bef20310f"
      },
      "execution_count": 10,
      "outputs": [
        {
          "output_type": "stream",
          "name": "stdout",
          "text": [
            "Mounted at /content/drive\n"
          ]
        }
      ]
    },
    {
      "cell_type": "code",
      "source": [
        "!unzip \"/content/drive/MyDrive/FERDataset.zip\""
      ],
      "metadata": {
        "id": "9EK05V5PRCWp"
      },
      "execution_count": null,
      "outputs": []
    },
    {
      "cell_type": "code",
      "source": [
        "def get_keys_from_value(d, val):\n",
        "    return [k for k, v in d.items() if v == val]"
      ],
      "metadata": {
        "id": "5aHAcx1rTu1z"
      },
      "execution_count": 2,
      "outputs": []
    },
    {
      "cell_type": "code",
      "source": [
        "classes = {\n",
        "    0: 'angry', 1: 'disgust', 2: 'fear', 3: 'happy', 4: 'sad', 5: 'surprise', 6: 'neutral'\n",
        "}"
      ],
      "metadata": {
        "id": "sp0IDtqHSpRn"
      },
      "execution_count": 3,
      "outputs": []
    },
    {
      "cell_type": "code",
      "execution_count": 4,
      "metadata": {
        "id": "1vf7Oo1jMwwU"
      },
      "outputs": [],
      "source": [
        "import os\n",
        "from PIL import Image\n",
        "import glob\n",
        "import torch \n",
        "\n",
        "from torch.utils.data import Dataset, DataLoader\n",
        "from torch import nn\n",
        "from torchvision import transforms"
      ]
    },
    {
      "cell_type": "code",
      "source": [
        "DEVICE = torch.device(\"cuda\") if torch.cuda.is_available() else torch.device(\"cpu\")"
      ],
      "metadata": {
        "id": "5qsi1-Ikabw4"
      },
      "execution_count": 5,
      "outputs": []
    },
    {
      "cell_type": "code",
      "source": [
        "class FERDataset(Dataset):\n",
        "\n",
        "  def load_data(self,base_path, setname):\n",
        "    images = []\n",
        "    labels = []\n",
        "    path = base_path+'/images/'+ setname\n",
        "    for expression in os.listdir(path):\n",
        "      for img in os.listdir(path+'/'+ expression):\n",
        "        images.append(path+'/'+ expression+'/'+img)\n",
        "\n",
        "        labels.append(get_keys_from_value(classes, expression)[0])\n",
        "  \n",
        "    \n",
        "    return images, labels\n",
        "  \n",
        "  def __init__(self, base_path, setname, transforms =None):\n",
        "    self.images, self.labels = self.load_data(base_path,setname)\n",
        "    self.transforms = transforms\n",
        "  \n",
        "  def __len__(self):\n",
        "    return len(self.images)\n",
        "  \n",
        "  def __getitem__(self, index):\n",
        "    image = Image.open(self.images[index]).convert('RGB')\n",
        "    label = torch.tensor(self.labels[index])\n",
        "    image_path = self.images[index]\n",
        "    if self.transforms is not None:\n",
        "\n",
        "      image = self.transforms(image)\n",
        "    \n",
        "    return image, label, image_path\n"
      ],
      "metadata": {
        "id": "HIaPnENrNvPC"
      },
      "execution_count": 82,
      "outputs": []
    },
    {
      "cell_type": "code",
      "source": [
        "transforms_train = transforms.Compose([\n",
        "                                       transforms.RandomRotation(10.),\n",
        "                                       transforms.ToTensor(),\n",
        "                                       transforms.Normalize((0.5), (0.5))])\n",
        "\n",
        "transforms_valid = transforms.Compose([\n",
        "                                       transforms.ToTensor(),\n",
        "                                       transforms.Normalize((0.5), (0.5))])"
      ],
      "metadata": {
        "id": "pbBSwWR7Wef7"
      },
      "execution_count": 83,
      "outputs": []
    },
    {
      "cell_type": "code",
      "source": [
        "trainset = FERDataset(\"/content/images\", \"train\", transforms_train)\n",
        "validset = FERDataset(\"/content/images\", \"validation\", transforms_valid)"
      ],
      "metadata": {
        "id": "jb2B6255VS2e"
      },
      "execution_count": 84,
      "outputs": []
    },
    {
      "cell_type": "code",
      "source": [
        "train_loader = DataLoader(trainset, batch_size=128, shuffle=True)\n",
        "valid_loader = DataLoader(validset, batch_size=128, shuffle=True)"
      ],
      "metadata": {
        "id": "yl4p6ORKYayV"
      },
      "execution_count": 85,
      "outputs": []
    },
    {
      "cell_type": "markdown",
      "source": [
        "# Model"
      ],
      "metadata": {
        "id": "ssHFyER_Z9Wh"
      }
    },
    {
      "cell_type": "code",
      "source": [
        "epochs = 20"
      ],
      "metadata": {
        "id": "a02aSlFGb2lt"
      },
      "execution_count": 80,
      "outputs": []
    },
    {
      "cell_type": "code",
      "source": [
        "'''VGG11/13/16/19 in Pytorch.'''\n",
        "import torch\n",
        "import torch.nn as nn\n",
        "import torch.nn.functional as F\n",
        "from torch.autograd import Variable\n",
        "\n",
        "\n",
        "cfg = {\n",
        "    'VGG11': [64, 'M', 128, 'M', 256, 256, 'M', 512, 512, 'M', 512, 512, 'M'],\n",
        "    'VGG13': [64, 64, 'M', 128, 128, 'M', 256, 256, 'M', 512, 512, 'M', 512, 512, 'M'],\n",
        "    'VGG16': [64, 64, 'M', 128, 128, 'M', 256, 256, 256, 'M', 512, 512, 512, 'M', 512, 512, 512, 'M'],\n",
        "    'VGG19': [64, 64, 'M', 128, 128, 'M', 256, 256, 256, 256, 'M', 512, 512, 512, 512, 'M', 512, 512, 512, 512, 'M'],\n",
        "}\n",
        "\n",
        "\n",
        "class VGG(nn.Module):\n",
        "    def __init__(self, vgg_name):\n",
        "        super(VGG, self).__init__()\n",
        "        self.features = self._make_layers(cfg[vgg_name])\n",
        "        self.classifier = nn.Linear(512, 7)\n",
        "\n",
        "    def forward(self, x):\n",
        "        out = self.features(x)\n",
        "        out = out.view(out.size(0), -1)\n",
        "        out = F.dropout(out, p=0.5, training=self.training)\n",
        "        out = self.classifier(out)\n",
        "        return out\n",
        "\n",
        "    def _make_layers(self, cfg):\n",
        "        layers = []\n",
        "        in_channels = 3\n",
        "        for x in cfg:\n",
        "            if x == 'M':\n",
        "                layers += [nn.MaxPool2d(kernel_size=2, stride=2)]\n",
        "            else:\n",
        "                layers += [nn.Conv2d(in_channels, x, kernel_size=3, padding=1),\n",
        "                           nn.BatchNorm2d(x),\n",
        "                           nn.ReLU(inplace=True)]\n",
        "                in_channels = x\n",
        "        layers += [nn.AvgPool2d(kernel_size=1, stride=1)]\n",
        "        return nn.Sequential(*layers)"
      ],
      "metadata": {
        "id": "Xc8l3_9zZ_OM"
      },
      "execution_count": 72,
      "outputs": []
    },
    {
      "cell_type": "markdown",
      "source": [
        "# Train"
      ],
      "metadata": {
        "id": "gRjD8w9Y2_OM"
      }
    },
    {
      "cell_type": "code",
      "source": [
        "model = VGG('VGG19').to(DEVICE)"
      ],
      "metadata": {
        "id": "vWEx2ZpzaAbN"
      },
      "execution_count": 77,
      "outputs": []
    },
    {
      "cell_type": "code",
      "source": [
        "import torch\n",
        "import torch.nn as nn\n",
        "import torch.optim as optim\n",
        "import torch.nn.functional as F\n",
        "import torch.backends.cudnn as cudnn\n",
        "import torchvision\n",
        "\n",
        "import numpy as np"
      ],
      "metadata": {
        "id": "vttx4L4qbb7Q"
      },
      "execution_count": 74,
      "outputs": []
    },
    {
      "cell_type": "code",
      "source": [
        "criterion = nn.CrossEntropyLoss()\n",
        "optimizer = optim.Adam(model.parameters(), lr=0.001)"
      ],
      "metadata": {
        "id": "VjFC3E6FbnaF"
      },
      "execution_count": 78,
      "outputs": []
    },
    {
      "cell_type": "code",
      "source": [
        "loss_list = []\n",
        "val_loss_list = []\n",
        "accuracy_list = []"
      ],
      "metadata": {
        "id": "o0qswmoIflEY"
      },
      "execution_count": 79,
      "outputs": []
    },
    {
      "cell_type": "code",
      "source": [
        "\n",
        "for epoch in range(epochs):\n",
        "  train_loss = 0.0\n",
        "  val_loss = 0.0\n",
        "  total = 0\n",
        "\n",
        "  for i, (image, label, image_path) in enumerate(train_loader):\n",
        "\n",
        "    image, label = image.to(DEVICE), label.to(DEVICE)\n",
        "\n",
        "    optimizer.zero_grad()\n",
        "\n",
        "    output = model(image)\n",
        "    loss = criterion(output,label)\n",
        "    loss.backward()\n",
        "\n",
        "    optimizer.step()\n",
        "\n",
        "    train_loss += loss.item()\n",
        "    #total += label.size(0)\n",
        "    total += 1\n",
        "\n",
        "  train_loss = train_loss / total\n",
        "  loss_list.append(train_loss)\n",
        "  \n",
        "\n",
        "  correct = 0\n",
        "  total = 0\n",
        "  with torch.no_grad():\n",
        "\n",
        "    for i, (image, label,image_path) in enumerate(valid_loader):\n",
        "      image, label = image.to(DEVICE), label.to(DEVICE)\n",
        "\n",
        "      output = model(image)\n",
        "\n",
        "      loss = criterion(output,label)\n",
        "\n",
        "      val_loss += loss.item()\n",
        "\n",
        "\n",
        "      _, predicted = torch.max(output.data, 1)\n",
        "      correct += predicted.eq(label.data).cpu().sum()\n",
        "      total +=1 \n",
        "    val_loss = val_loss/total \n",
        "    val_loss_list.append(val_loss)\n",
        "\n",
        "    accuracy = correct /total\n",
        "    accuracy_list.append(accuracy.item())\n",
        "    print(\"Epoch : \", epoch, \" / Train Loss \", train_loss, \"/ Val loss \", val_loss, \"/ Acc : \", accuracy.item() )\n",
        "\n",
        "\n",
        "\n",
        "\n",
        "\n",
        "\n",
        "\n",
        "\n",
        "\n"
      ],
      "metadata": {
        "colab": {
          "base_uri": "https://localhost:8080/"
        },
        "id": "NYNMe8aCsBUJ",
        "outputId": "763423d0-f285-4117-8947-83f9550e8d5a"
      },
      "execution_count": 86,
      "outputs": [
        {
          "output_type": "stream",
          "name": "stdout",
          "text": [
            "Epoch :  0  / Train Loss  1.8819150159844256 / Val loss  1.8035317276205336 / Acc :  31.60714340209961\n",
            "Epoch :  1  / Train Loss  1.7418009491093391 / Val loss  1.6845257367406572 / Acc :  39.35714340209961\n",
            "Epoch :  2  / Train Loss  1.5900091233506668 / Val loss  1.4336504978793008 / Acc :  57.16071319580078\n",
            "Epoch :  3  / Train Loss  1.3839776041233434 / Val loss  1.3079924849527222 / Acc :  60.94643020629883\n",
            "Epoch :  4  / Train Loss  1.2818701383286872 / Val loss  1.2269531190395355 / Acc :  66.85713958740234\n",
            "Epoch :  5  / Train Loss  1.2150179743766785 / Val loss  1.2059386202267237 / Acc :  67.83928680419922\n",
            "Epoch :  6  / Train Loss  1.1708131556489827 / Val loss  1.1807404139212199 / Acc :  70.10713958740234\n",
            "Epoch :  7  / Train Loss  1.1278191409279814 / Val loss  1.127629819725241 / Acc :  72.96428680419922\n",
            "Epoch :  8  / Train Loss  1.1037042286016245 / Val loss  1.09744201281241 / Acc :  73.66071319580078\n",
            "Epoch :  9  / Train Loss  1.070499762497117 / Val loss  1.1102027563112122 / Acc :  73.55357360839844\n",
            "Epoch :  10  / Train Loss  1.0305435610028495 / Val loss  1.0870746044175965 / Acc :  74.96428680419922\n",
            "Epoch :  11  / Train Loss  0.989866834826174 / Val loss  1.0532930227262634 / Acc :  76.30357360839844\n",
            "Epoch :  12  / Train Loss  0.9605104108299829 / Val loss  1.0580413224441665 / Acc :  76.5\n",
            "Epoch :  13  / Train Loss  0.9346089476505212 / Val loss  1.0350756549409457 / Acc :  78.03571319580078\n",
            "Epoch :  14  / Train Loss  0.9004159485344339 / Val loss  1.0085145522441183 / Acc :  78.66071319580078\n",
            "Epoch :  15  / Train Loss  0.8671809714452355 / Val loss  1.0273233279585838 / Acc :  79.125\n",
            "Epoch :  16  / Train Loss  0.8380446302152313 / Val loss  1.0049482019884246 / Acc :  79.875\n",
            "Epoch :  17  / Train Loss  0.8090827776267465 / Val loss  0.99945196722235 / Acc :  80.41071319580078\n",
            "Epoch :  18  / Train Loss  0.7854173921905787 / Val loss  1.0107849368027277 / Acc :  80.51786041259766\n",
            "Epoch :  19  / Train Loss  0.7445005753398997 / Val loss  1.0409328926886832 / Acc :  80.14286041259766\n"
          ]
        }
      ]
    },
    {
      "cell_type": "code",
      "source": [
        "torch.save(model.state_dict(), \"model.pt\")"
      ],
      "metadata": {
        "id": "BCH3OhJInQuX"
      },
      "execution_count": 141,
      "outputs": []
    },
    {
      "cell_type": "markdown",
      "source": [
        "# Results\n"
      ],
      "metadata": {
        "id": "7GbG_i0V3B6E"
      }
    },
    {
      "cell_type": "code",
      "source": [
        "import matplotlib.pyplot as plt\n",
        "import numpy as np\n",
        "\n",
        "\n",
        "plt.figure(figsize =(10, 8))\n",
        "plt.plot(loss_list, label=\"train loss\")\n",
        "plt.plot(val_loss_list, label=\"validation loss\")\n",
        "plt.xlabel(\"Epochs\")\n",
        "plt.ylabel(\"Loss\")\n",
        "\n",
        "plt.title(\"Loss\")\n",
        "plt.legend()\n",
        "  \n",
        "# To load the display window\n",
        "plt.show()"
      ],
      "metadata": {
        "colab": {
          "base_uri": "https://localhost:8080/",
          "height": 513
        },
        "id": "gTVrWC0qqPg6",
        "outputId": "d7663d7f-d68c-4485-a7db-46ea711a38e4"
      },
      "execution_count": 88,
      "outputs": [
        {
          "output_type": "display_data",
          "data": {
            "text/plain": [
              "<Figure size 720x576 with 1 Axes>"
            ],
            "image/png": "[encoded data removed]"
          },
          "metadata": {
            "needs_background": "light"
          }
        }
      ]
    },
    {
      "cell_type": "code",
      "source": [
        "plt.figure(figsize =(10, 8))\n",
        "plt.plot()\n",
        "plt.plot(range(len(accuracy_list)), accuracy_list)\n",
        "\n",
        "plt.xlabel(\"Epochs\")\n",
        "plt.ylabel(\"Accuracy\")\n",
        "plt.title(\"Validation set accuracy curve\")\n",
        "\n",
        "plt.show()"
      ],
      "metadata": {
        "colab": {
          "base_uri": "https://localhost:8080/",
          "height": 513
        },
        "id": "gz4alVM9qY1q",
        "outputId": "b30cc76a-9bea-4746-c9dd-a678828c1fc9"
      },
      "execution_count": 89,
      "outputs": [
        {
          "output_type": "display_data",
          "data": {
            "text/plain": [
              "<Figure size 720x576 with 1 Axes>"
            ],
            "image/png": "[encoded data removed]"
          },
          "metadata": {
            "needs_background": "light"
          }
        }
      ]
    },
    {
      "cell_type": "markdown",
      "source": [
        "# Test"
      ],
      "metadata": {
        "id": "CGnG5J6K3GGR"
      }
    },
    {
      "cell_type": "code",
      "source": [
        "\n",
        "net =  VGG('VGG19').to(DEVICE)\n",
        "# CHANGE HERE WITH YOUR MODEL PATH \n",
        "net.load_state_dict(torch.load(\"model.pt\"))"
      ],
      "metadata": {
        "colab": {
          "base_uri": "https://localhost:8080/"
        },
        "id": "be6Oi51l3Iu1",
        "outputId": "1939611f-a929-493f-a274-6152eef41bd4"
      },
      "execution_count": 142,
      "outputs": [
        {
          "output_type": "execute_result",
          "data": {
            "text/plain": [
              "<All keys matched successfully>"
            ]
          },
          "metadata": {},
          "execution_count": 142
        }
      ]
    },
    {
      "cell_type": "code",
      "source": [
        "def check_accuracy(image, label, model):\n",
        "  model.eval()\n",
        "\n",
        "  with torch.no_grad():\n",
        "    image, label = image.to(DEVICE), label.to(DEVICE)\n",
        "    output = model(image)\n",
        "    _, predicted = torch.max(output.data, 1)\n",
        "\n",
        "    return predicted\n"
      ],
      "metadata": {
        "id": "eLWufWChxzvu"
      },
      "execution_count": 104,
      "outputs": []
    },
    {
      "cell_type": "code",
      "source": [
        "import random"
      ],
      "metadata": {
        "id": "V8WP8BIsy0iM"
      },
      "execution_count": 114,
      "outputs": []
    },
    {
      "cell_type": "code",
      "source": [
        "#LOAD HERE A TEST SET \n",
        "validset = FERDataset(\"/content/images\", \"validation\", transforms_valid)\n",
        "test_loader = DataLoader(validset, batch_size=64, shuffle=True)"
      ],
      "metadata": {
        "id": "6q7k15UWrExt"
      },
      "execution_count": 95,
      "outputs": []
    },
    {
      "cell_type": "code",
      "source": [
        "test = iter(test_loader)"
      ],
      "metadata": {
        "id": "LXJ-6a5GxL2p"
      },
      "execution_count": 100,
      "outputs": []
    },
    {
      "cell_type": "code",
      "source": [
        "images, labels, path = test.next()\n",
        "random_idx = random.sample(range(0,5),1)[0] \n",
        "image = torch.reshape(images[random_idx],(1,3,48,48))\n",
        "predicted_idx = check_accuracy(image,labels[random_idx],net)\n",
        "print(\"Predicted label: \",classes[predicted_idx.item()]) \n",
        "print(\"Correct label: \",classes[int(labels[random_idx].numpy())])  #Converting it to numpy from tensor to fetch the label\n",
        "image = torch.reshape(image,(3,48,48))\n",
        "plt.imshow(np.transpose(image.numpy(), (1, 2, 0)))  "
      ],
      "metadata": {
        "colab": {
          "base_uri": "https://localhost:8080/",
          "height": 338
        },
        "id": "AbkNEnMU3kro",
        "outputId": "2260cc62-e098-496b-b56c-6b133e2500f8"
      },
      "execution_count": 147,
      "outputs": [
        {
          "output_type": "stream",
          "name": "stderr",
          "text": [
            "Clipping input data to the valid range for imshow with RGB data ([0..1] for floats or [0..255] for integers).\n"
          ]
        },
        {
          "output_type": "stream",
          "name": "stdout",
          "text": [
            "Predicted label:  sad\n",
            "Correct label:  sad\n"
          ]
        },
        {
          "output_type": "execute_result",
          "data": {
            "text/plain": [
              "<matplotlib.image.AxesImage at 0x7f5ace4cdb90>"
            ]
          },
          "metadata": {},
          "execution_count": 147
        },
        {
          "output_type": "display_data",
          "data": {
            "text/plain": [
              "<Figure size 432x288 with 1 Axes>"
            ],
            "image/png": "[encoded data removed]"
          },
          "metadata": {
            "needs_background": "light"
          }
        }
      ]
    },
    {
      "cell_type": "code",
      "source": [
        "images, labels, path = test.next()\n",
        "random_idx = random.sample(range(0,5),1)[0] \n",
        "image = torch.reshape(images[random_idx],(1,3,48,48))\n",
        "predicted_idx = check_accuracy(image,labels[random_idx],net)\n",
        "print(\"Predicted label: \",classes[predicted_idx.item()]) \n",
        "print(\"Correct label: \",classes[int(labels[random_idx].numpy())])  #Converting it to numpy from tensor to fetch the label\n",
        "image = torch.reshape(image,(3,48,48))\n",
        "plt.imshow(np.transpose(image.numpy(), (1, 2, 0)))  "
      ],
      "metadata": {
        "colab": {
          "base_uri": "https://localhost:8080/",
          "height": 338
        },
        "id": "s6TVShdW3i1k",
        "outputId": "46b10eb6-3f40-4c14-897e-ec511aac9a09"
      },
      "execution_count": 146,
      "outputs": [
        {
          "output_type": "stream",
          "name": "stderr",
          "text": [
            "Clipping input data to the valid range for imshow with RGB data ([0..1] for floats or [0..255] for integers).\n"
          ]
        },
        {
          "output_type": "stream",
          "name": "stdout",
          "text": [
            "Predicted label:  angry\n",
            "Correct label:  fear\n"
          ]
        },
        {
          "output_type": "execute_result",
          "data": {
            "text/plain": [
              "<matplotlib.image.AxesImage at 0x7f5acde72c10>"
            ]
          },
          "metadata": {},
          "execution_count": 146
        },
        {
          "output_type": "display_data",
          "data": {
            "text/plain": [
              "<Figure size 432x288 with 1 Axes>"
            ],
            "image/png": "[encoded data removed]"
          },
          "metadata": {
            "needs_background": "light"
          }
        }
      ]
    },
    {
      "cell_type": "code",
      "source": [
        "images, labels, path = test.next()\n",
        "random_idx = random.sample(range(0,5),1)[0] \n",
        "image = torch.reshape(images[random_idx],(1,3,48,48))\n",
        "predicted_idx = check_accuracy(image,labels[random_idx],net)\n",
        "print(\"Predicted label: \",classes[predicted_idx.item()]) \n",
        "print(\"Correct label: \",classes[int(labels[random_idx].numpy())])  #Converting it to numpy from tensor to fetch the label\n",
        "image = torch.reshape(image,(3,48,48))\n",
        "plt.imshow(np.transpose(image.numpy(), (1, 2, 0)))  "
      ],
      "metadata": {
        "colab": {
          "base_uri": "https://localhost:8080/",
          "height": 338
        },
        "id": "1n_SU4z03fMv",
        "outputId": "15244160-d0e6-4c08-d2d4-896daaa1f98b"
      },
      "execution_count": 145,
      "outputs": [
        {
          "output_type": "stream",
          "name": "stderr",
          "text": [
            "Clipping input data to the valid range for imshow with RGB data ([0..1] for floats or [0..255] for integers).\n"
          ]
        },
        {
          "output_type": "stream",
          "name": "stdout",
          "text": [
            "Predicted label:  sad\n",
            "Correct label:  sad\n"
          ]
        },
        {
          "output_type": "execute_result",
          "data": {
            "text/plain": [
              "<matplotlib.image.AxesImage at 0x7f5acdb25750>"
            ]
          },
          "metadata": {},
          "execution_count": 145
        },
        {
          "output_type": "display_data",
          "data": {
            "text/plain": [
              "<Figure size 432x288 with 1 Axes>"
            ],
            "image/png": "[encoded data removed]"
          },
          "metadata": {
            "needs_background": "light"
          }
        }
      ]
    },
    {
      "cell_type": "code",
      "source": [
        "images, labels, path = test.next()\n",
        "random_idx = random.sample(range(0,5),1)[0] \n",
        "image = torch.reshape(images[random_idx],(1,3,48,48))\n",
        "predicted_idx = check_accuracy(image,labels[random_idx],net)\n",
        "print(\"Predicted label: \",classes[predicted_idx.item()]) \n",
        "print(\"Correct label: \",classes[int(labels[random_idx].numpy())])  #Converting it to numpy from tensor to fetch the label\n",
        "image = torch.reshape(image,(3,48,48))\n",
        "plt.imshow(np.transpose(image.numpy(), (1, 2, 0)))  "
      ],
      "metadata": {
        "colab": {
          "base_uri": "https://localhost:8080/",
          "height": 338
        },
        "id": "Pk6mTLHk3bdX",
        "outputId": "1a7f8518-1a78-4838-85d2-3b2b9486d101"
      },
      "execution_count": 143,
      "outputs": [
        {
          "output_type": "stream",
          "name": "stderr",
          "text": [
            "Clipping input data to the valid range for imshow with RGB data ([0..1] for floats or [0..255] for integers).\n"
          ]
        },
        {
          "output_type": "stream",
          "name": "stdout",
          "text": [
            "Predicted label:  sad\n",
            "Correct label:  neutral\n"
          ]
        },
        {
          "output_type": "execute_result",
          "data": {
            "text/plain": [
              "<matplotlib.image.AxesImage at 0x7f5b47e39690>"
            ]
          },
          "metadata": {},
          "execution_count": 143
        },
        {
          "output_type": "display_data",
          "data": {
            "text/plain": [
              "<Figure size 432x288 with 1 Axes>"
            ],
            "image/png": "[encoded data removed]"
          },
          "metadata": {
            "needs_background": "light"
          }
        }
      ]
    },
    {
      "cell_type": "code",
      "source": [
        "images, labels, path = test.next()\n",
        "random_idx = random.sample(range(0,5),1)[0] \n",
        "image = torch.reshape(images[random_idx],(1,3,48,48))\n",
        "predicted_idx = check_accuracy(image,labels[random_idx],net)\n",
        "print(\"Predicted label: \",classes[predicted_idx.item()]) \n",
        "print(\"Correct label: \",classes[int(labels[random_idx].numpy())])  #Converting it to numpy from tensor to fetch the label\n",
        "image = torch.reshape(image,(3,48,48))\n",
        "plt.imshow(np.transpose(image.numpy(), (1, 2, 0)))  "
      ],
      "metadata": {
        "colab": {
          "base_uri": "https://localhost:8080/",
          "height": 338
        },
        "id": "o6Rfg5SqyeuX",
        "outputId": "dcdb26b4-35f2-480a-8d6c-c433c3d848ef"
      },
      "execution_count": 148,
      "outputs": [
        {
          "output_type": "stream",
          "name": "stderr",
          "text": [
            "Clipping input data to the valid range for imshow with RGB data ([0..1] for floats or [0..255] for integers).\n"
          ]
        },
        {
          "output_type": "stream",
          "name": "stdout",
          "text": [
            "Predicted label:  neutral\n",
            "Correct label:  neutral\n"
          ]
        },
        {
          "output_type": "execute_result",
          "data": {
            "text/plain": [
              "<matplotlib.image.AxesImage at 0x7f5acdfe6d90>"
            ]
          },
          "metadata": {},
          "execution_count": 148
        },
        {
          "output_type": "display_data",
          "data": {
            "text/plain": [
              "<Figure size 432x288 with 1 Axes>"
            ],
            "image/png": "[encoded data removed]"
          },
          "metadata": {
            "needs_background": "light"
          }
        }
      ]
    },
    {
      "cell_type": "code",
      "source": [
        "images, labels, path = test.next()\n",
        "random_idx = random.sample(range(0,5),1)[0] \n",
        "image = torch.reshape(images[random_idx],(1,3,48,48))\n",
        "predicted_idx = check_accuracy(image,labels[random_idx],net)\n",
        "print(\"Predicted label: \",classes[predicted_idx.item()]) \n",
        "print(\"Correct label: \",classes[int(labels[random_idx].numpy())])  #Converting it to numpy from tensor to fetch the label\n",
        "image = torch.reshape(image,(3,48,48))\n",
        "plt.imshow(np.transpose(image.numpy(), (1, 2, 0)))  "
      ],
      "metadata": {
        "colab": {
          "base_uri": "https://localhost:8080/",
          "height": 338
        },
        "id": "8HJht1li2tLh",
        "outputId": "ad1ce0cc-e636-490e-a419-2b2a24604ab3"
      },
      "execution_count": 149,
      "outputs": [
        {
          "output_type": "stream",
          "name": "stderr",
          "text": [
            "Clipping input data to the valid range for imshow with RGB data ([0..1] for floats or [0..255] for integers).\n"
          ]
        },
        {
          "output_type": "stream",
          "name": "stdout",
          "text": [
            "Predicted label:  angry\n",
            "Correct label:  angry\n"
          ]
        },
        {
          "output_type": "execute_result",
          "data": {
            "text/plain": [
              "<matplotlib.image.AxesImage at 0x7f5acdfa0f50>"
            ]
          },
          "metadata": {},
          "execution_count": 149
        },
        {
          "output_type": "display_data",
          "data": {
            "text/plain": [
              "<Figure size 432x288 with 1 Axes>"
            ],
            "image/png": "[encoded data removed]"
          },
          "metadata": {
            "needs_background": "light"
          }
        }
      ]
    },
    {
      "cell_type": "code",
      "source": [
        "images, labels, path = test.next()\n",
        "random_idx = random.sample(range(0,5),1)[0] \n",
        "image = torch.reshape(images[random_idx],(1,3,48,48))\n",
        "predicted_idx = check_accuracy(image,labels[random_idx],net)\n",
        "print(\"Predicted label: \",classes[predicted_idx.item()]) \n",
        "print(\"Correct label: \",classes[int(labels[random_idx].numpy())])  #Converting it to numpy from tensor to fetch the label\n",
        "image = torch.reshape(image,(3,48,48))\n",
        "plt.imshow(np.transpose(image.numpy(), (1, 2, 0)))  "
      ],
      "metadata": {
        "colab": {
          "base_uri": "https://localhost:8080/",
          "height": 338
        },
        "id": "6MDCiimp2qkp",
        "outputId": "0ca0f40a-41e7-4a15-f073-705342737457"
      },
      "execution_count": 150,
      "outputs": [
        {
          "output_type": "stream",
          "name": "stderr",
          "text": [
            "Clipping input data to the valid range for imshow with RGB data ([0..1] for floats or [0..255] for integers).\n"
          ]
        },
        {
          "output_type": "stream",
          "name": "stdout",
          "text": [
            "Predicted label:  sad\n",
            "Correct label:  fear\n"
          ]
        },
        {
          "output_type": "execute_result",
          "data": {
            "text/plain": [
              "<matplotlib.image.AxesImage at 0x7f5ace542090>"
            ]
          },
          "metadata": {},
          "execution_count": 150
        },
        {
          "output_type": "display_data",
          "data": {
            "text/plain": [
              "<Figure size 432x288 with 1 Axes>"
            ],
            "image/png": "[encoded data removed]"
          },
          "metadata": {
            "needs_background": "light"
          }
        }
      ]
    },
    {
      "cell_type": "code",
      "source": [
        "images, labels, path = test.next()\n",
        "random_idx = random.sample(range(0,5),1)[0] \n",
        "image = torch.reshape(images[random_idx],(1,3,48,48))\n",
        "predicted_idx = check_accuracy(image,labels[random_idx],net)\n",
        "print(\"Predicted label: \",classes[predicted_idx.item()]) \n",
        "print(\"Correct label: \",classes[int(labels[random_idx].numpy())])  #Converting it to numpy from tensor to fetch the label\n",
        "image = torch.reshape(image,(3,48,48))\n",
        "plt.imshow(np.transpose(image.numpy(), (1, 2, 0)))  "
      ],
      "metadata": {
        "colab": {
          "base_uri": "https://localhost:8080/",
          "height": 338
        },
        "id": "NFRksxZ-2uu1",
        "outputId": "688e79ba-a951-4ebe-c62d-04361e33edf2"
      },
      "execution_count": 151,
      "outputs": [
        {
          "output_type": "stream",
          "name": "stderr",
          "text": [
            "Clipping input data to the valid range for imshow with RGB data ([0..1] for floats or [0..255] for integers).\n"
          ]
        },
        {
          "output_type": "stream",
          "name": "stdout",
          "text": [
            "Predicted label:  angry\n",
            "Correct label:  angry\n"
          ]
        },
        {
          "output_type": "execute_result",
          "data": {
            "text/plain": [
              "<matplotlib.image.AxesImage at 0x7f5ace4bf090>"
            ]
          },
          "metadata": {},
          "execution_count": 151
        },
        {
          "output_type": "display_data",
          "data": {
            "text/plain": [
              "<Figure size 432x288 with 1 Axes>"
            ],
            "image/png": "[encoded data removed]"
          },
          "metadata": {
            "needs_background": "light"
          }
        }
      ]
    }
  ]
}